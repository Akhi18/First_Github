{
 "cells": [
  {
   "cell_type": "markdown",
   "metadata": {},
   "source": [
    "## **IDEAL SHOP LOCATION PREDICTION USING MACHINE LEARNING ALGORITHM**"
   ]
  },
  {
   "cell_type": "markdown",
   "metadata": {},
   "source": [
    "### **PROJECT REPORT**"
   ]
  },
  {
   "cell_type": "markdown",
   "metadata": {},
   "source": [
    "This notebook will be used to create the capstone project for the Applied Data Science Capstone of the IBM Certification course in Coursera.\n",
    "In this project, we will use the knowledge gained through earlier courses in this certification such as Python for Data Science course, the data visualization with Python course, and finally, the data analysis with Python course along with some additional skills segmentation and clustering. Through previous modules, we explored New York City and the city of Toronto and segmented and clustered their neighborhoods. Both cities are very diverse and are the financial capitals of their respective countries. Given the above analysis, our client is looking to to open a coffee shop in any one of the countries or both, where would you recommend that they open it? This is the basic Data Science problem statement, and we need to come up with an ideal suggestion based on our analysis which gives maximum profit to our client."
   ]
  },
  {
   "cell_type": "markdown",
   "metadata": {},
   "source": [
    "## *TABLE OF CONTENTS*\n",
    "\n",
    "1. [Introduction](#Introduction)\n",
    "\n",
    "      1.1. [Problem Description and background](#subparagraph1)\n",
    "      \n",
    "2. [Data Description](#DataDescription)\n",
    "\n",
    "3. [Data Science Methodology](#DataScienceMethodology)\n",
    "\n",
    "      3.1. [Data Analysis and Testing](#subparagraph2)\n",
    "\n",
    "4. [Results and Discussions](#Results)\n",
    "\n",
    "5. [Conclusion](#Conclusion)\n"
   ]
  },
  {
   "cell_type": "markdown",
   "metadata": {},
   "source": [
    "## *INTRODUCTION*"
   ]
  },
  {
   "cell_type": "markdown",
   "metadata": {},
   "source": [
    "### Problem Description and background <a name=\"subparagraph1\"></a>"
   ]
  },
  {
   "cell_type": "markdown",
   "metadata": {},
   "source": [
    "Our client is owning a Coffee shop chain business in Asian and Europian sub continents and is looking at expanding his business further to capital cities of United States of America and Canada. He is confident that his business will be profitable if we can identify a particular Borough or more specifically a neighbourhood under each Borough which will yield in high sales all through out the year. The client is looking for potential customers without any dwindle in sales at any point and is targetted at a wider audience who would like to relax and have a quiet time to themselves. Given the data sets containing neighbourhood information of both New York City and Toronto and using a Location data provider such as Foursquare API, can we recommend as to where he can start his new shops?"
   ]
  },
  {
   "cell_type": "markdown",
   "metadata": {},
   "source": [
    "## *DATA DESCRIPTION*"
   ]
  },
  {
   "cell_type": "markdown",
   "metadata": {},
   "source": [
    "We have two data sets which contain the borough and neighbourhood information of both cities in question. While the data pertaining to New York city was readily available for analysis, we scraped the necessary data for Toronto from the relevant Wikipedia page using the library function BeautifulSoup and built our own data set by cleansing and scrubbing the unformatted data. We have also combined the Geospacial coordinates data into the newly built Toronto data set in order to create a pure data set which is further used for analysis, segmentation and clustering.\n",
    "\n",
    "Both datasets needed for the analysis are pushed to the Github repository along the necessary Geospacial coordinates data for Toronto city as json and csv files. The links to the respository can be found below:\n",
    "\n",
    "For New York city dataset:\n",
    "\n",
    "https://github.com/Akhi18/First_Github/blob/master/nyu_2451_34572-geojson.json\n",
    "\n",
    "For Toronto dataset(Borough & Neighbourhood data):\n",
    "\n",
    "https://github.com/Akhi18/First_Github/blob/master/postal_codes.csv\n",
    "\n",
    "Geospacial coordinates of Toronto city:\n",
    "\n",
    "https://github.com/Akhi18/First_Github/blob/master/Geospatial_Coordinates.csv"
   ]
  },
  {
   "cell_type": "markdown",
   "metadata": {},
   "source": [
    "## *DATA SCIENCE METHODOLOGY*"
   ]
  },
  {
   "cell_type": "markdown",
   "metadata": {},
   "source": [
    "We are going to use K-means clustering and map functions such as Folium alsong with Location Data provider data from Four square API to analyse, segment the data into neighbourhoods and cluster the data based on the 10 most frequently visited venues in both cities. For our ease of analysis, we are choosing two coastal boroughs, particularly Manhattan in New York city and West Toronto in Toronto and identify particular neighbourhoods in both localities which is the most preferable location to start the Coffee shop. In each neighbourhood, we will zero in on one most likely location and specify what makes it ideal based on the location surroundings, lesser competitive market and thriving population."
   ]
  },
  {
   "cell_type": "markdown",
   "metadata": {},
   "source": [
    "### Data Analysis and Testing <a name=\"subparagraph2\"></a>"
   ]
  },
  {
   "cell_type": "markdown",
   "metadata": {},
   "source": [
    "First we are going to analyze and cluster the neighbourhoods in the New York city and then do the same with Toronto city. For this we are using the k-means clustering algorithm and map function, Folium to plot the results. We have to import the readily available data set for New York city from https://geo.nyu.edu/catalog/nyu_2451_34572 and for Toronto, we are going to scrap the needed data by using the ultility  **BeautifulSoup** from the Wikipedia web page, https://en.wikipedia.org/wiki/List_of_postal_codes_of_Canada:_M.\n",
    "\n",
    "We are going to do the necessary scrubbing and cleansing of raw data to remove the unwanted details and build dataframes so as to build clusters. Now the data frame consists of Borough, Neighbourhoods, Latitude and Longitude coordinates. The New York dataframe has 5 boroughs and 306 neighbourhoods, while Toronto has 11 boroughs and 103 neighbourhoods. The optimum k is found as 5 for New York city and as 3 for Toronto after iterative analysis and testing. For ease of access, I have given links to the notebooks created for analysis, testing and clustering uploaded in the Gihub respository.\n",
    "\n",
    "For New York city:\n",
    "\n",
    "https://github.com/Akhi18/First_Github/blob/master/Segmentation%20and%20Clustering%20of%20neighborhoods%20in%20New%20York%20City.ipynb\n",
    "\n",
    "For Toronto:\n",
    "\n",
    "https://github.com/Akhi18/First_Github/blob/master/Segmenting%20and%20Clustering%20Neighbourhoods%20in%20Toronto%20city.ipynb"
   ]
  },
  {
   "cell_type": "markdown",
   "metadata": {},
   "source": [
    "## *RESULTS AND DISCUSSION*"
   ]
  },
  {
   "cell_type": "markdown",
   "metadata": {},
   "source": [
    "The New York City neighbourhood, Manhattan has been segmented into 5 clusters and Toronto city neighbourhood, West Toronto has been divided into 3 clusters. Based on the analysis done on both cities, we have identified two Neighbourhoods one each in New York city and Toronto city respectively which are ideal candidates for starting a coffee shop for our customer. We conclude that **Soho** in Manhattan is best suited in case of New York city and **Dufferin** in West Toronto as the ideal locations for starting up the business.\n",
    "\n",
    "The places are chosen based on the lack of coffee shops in the locality and competitors, closeness to city as well as the coastal line in order to bring out maximum profit attracting potential customers and tourists. Both places do not have a coffee shop or a restaurant in 500 m radius span and the most frequented places also lack a coffee shop."
   ]
  },
  {
   "cell_type": "markdown",
   "metadata": {},
   "source": [
    "## *CONCLUSION*"
   ]
  },
  {
   "cell_type": "markdown",
   "metadata": {},
   "source": [
    "Machine Learning algorithm is used efficiently to solve a potential business problem. While many other techniques can also be used to reach at this conclusion, K- means clustering and visual representation of results using Folium are best suited for the data science problem in hand."
   ]
  }
 ],
 "metadata": {
  "kernelspec": {
   "display_name": "Python 3",
   "language": "python",
   "name": "python3"
  },
  "language_info": {
   "codemirror_mode": {
    "name": "ipython",
    "version": 3
   },
   "file_extension": ".py",
   "mimetype": "text/x-python",
   "name": "python",
   "nbconvert_exporter": "python",
   "pygments_lexer": "ipython3",
   "version": "3.6.6"
  }
 },
 "nbformat": 4,
 "nbformat_minor": 2
}
