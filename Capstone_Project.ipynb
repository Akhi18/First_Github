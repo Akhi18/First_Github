{
 "cells": [
  {
   "cell_type": "markdown",
   "metadata": {},
   "source": [
    "## **APPLIED DATA SCIENCE CAPSTONE**"
   ]
  },
  {
   "cell_type": "markdown",
   "metadata": {},
   "source": [
    "This notebook will be used to create the capstone project for the Applied Data Science Capstone of the IBM Certification course in Coursera.\n",
    "In this project, we will use the knowledge gained through earlier courses in this certification such as Python for Data Science course, the data visualization with Python course, and finally, the data analysis with Python course along with some additional skills segmentation and clustering. Through previous modules, we explored New York City and the city of Toronto and segmented and clustered their neighborhoods. Both cities are very diverse and are the financial capitals of their respective countries. Given the above analysis, our client is looking to to open a coffee shop in any one of the countries or both, where would you recommend that they open it? This is the basic Data Science problem statement, and we need to come up with an ideal suggestion based on our analysis which gives maximum profit to our client."
   ]
  },
  {
   "cell_type": "markdown",
   "metadata": {},
   "source": [
    "## *INTRODUCTION*"
   ]
  },
  {
   "cell_type": "markdown",
   "metadata": {},
   "source": [
    "## Problem Description and background"
   ]
  },
  {
   "cell_type": "markdown",
   "metadata": {},
   "source": [
    "Our client is owning a Coffee shop chain business in Asian and Europian sub continents and is looking at expanding his business further to capital cities of United States of America and Canada. He is confident that his business will be profitable if we can identify a particular Borough or more specifically a neighbourhood under each Borough which will yield in high sales all through out the year. The client is looking for potential customers without any dwindle in sales at any point and is targetted at a wider audience who would like to relax and have a quiet time to themselves. Given the data sets containing neighbourhood information of both New York City and Toronto and using a Location data provider such as Foursquare API, can we recommend as to where he can start his new shops?"
   ]
  },
  {
   "cell_type": "markdown",
   "metadata": {},
   "source": [
    "## *DATA SCIENCE APPROACH*"
   ]
  },
  {
   "cell_type": "markdown",
   "metadata": {},
   "source": [
    "## Data Description"
   ]
  },
  {
   "cell_type": "markdown",
   "metadata": {},
   "source": [
    "We have two data sets which contain the borough and neighbourhood information of both cities in question. While the data pertaining to New York city was readily available for analysis, we scraped the necessary data for Toronto from the relevant Wikipedia page using the library function BeautifulSoup and built our own data set by cleansing and scrubbing the unformatted data. We have also combined the Geospacial coordinates data into the newly built Toronto data set in order to create a pure data set which is further used for analysis, segmentation and clustering.\n"
   ]
  },
  {
   "cell_type": "markdown",
   "metadata": {},
   "source": [
    "## Data Science Methodlogy"
   ]
  },
  {
   "cell_type": "markdown",
   "metadata": {},
   "source": [
    "We are going to use K-means clustering and map functions such as Folium alsong with Location Data provider data from Four square API to analyse, segment the data into neighbourhoods and cluster the data based on the 10 most frequently visited venues in both cities. For our ease of analysis, we are choosing two coastal boroughs, particularly Manhattan in New York city and West Toronto in Toronto and identify particular neighbourhoods in both localities which is the most preferable location to start the Coffee shop. In each neighbourhood, we will zero in on one most likely location and specify what makes it ideal based on the location surroundings, lesser competitive market and thriving population."
   ]
  },
  {
   "cell_type": "code",
   "execution_count": null,
   "metadata": {},
   "outputs": [],
   "source": []
  }
 ],
 "metadata": {
  "kernelspec": {
   "display_name": "Python 3",
   "language": "python",
   "name": "python3"
  },
  "language_info": {
   "codemirror_mode": {
    "name": "ipython",
    "version": 3
   },
   "file_extension": ".py",
   "mimetype": "text/x-python",
   "name": "python",
   "nbconvert_exporter": "python",
   "pygments_lexer": "ipython3",
   "version": "3.6.6"
  }
 },
 "nbformat": 4,
 "nbformat_minor": 2
}
